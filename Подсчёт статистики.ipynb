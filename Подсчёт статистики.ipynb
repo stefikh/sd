{
 "cells": [
  {
   "cell_type": "code",
   "execution_count": 2,
   "id": "a870c6f8",
   "metadata": {},
   "outputs": [],
   "source": [
    "import pandas as pd"
   ]
  },
  {
   "cell_type": "markdown",
   "id": "c4ffdcc1",
   "metadata": {},
   "source": [
    "Открываем файл, который мы подготовили для подсчёта статистики."
   ]
  },
  {
   "cell_type": "code",
   "execution_count": 5,
   "id": "95047bac",
   "metadata": {},
   "outputs": [],
   "source": [
    "df_for_stat = pd.read_excel('df_for_stat.xlsx')"
   ]
  },
  {
   "cell_type": "code",
   "execution_count": 6,
   "id": "d648578c",
   "metadata": {},
   "outputs": [
    {
     "data": {
      "text/html": [
       "<div>\n",
       "<style scoped>\n",
       "    .dataframe tbody tr th:only-of-type {\n",
       "        vertical-align: middle;\n",
       "    }\n",
       "\n",
       "    .dataframe tbody tr th {\n",
       "        vertical-align: top;\n",
       "    }\n",
       "\n",
       "    .dataframe thead th {\n",
       "        text-align: right;\n",
       "    }\n",
       "</style>\n",
       "<table border=\"1\" class=\"dataframe\">\n",
       "  <thead>\n",
       "    <tr style=\"text-align: right;\">\n",
       "      <th></th>\n",
       "      <th>Gender</th>\n",
       "      <th>Age</th>\n",
       "      <th>age_ed</th>\n",
       "      <th>education</th>\n",
       "      <th>Group</th>\n",
       "      <th>answers</th>\n",
       "      <th>q_1</th>\n",
       "      <th>q_2</th>\n",
       "      <th>q_3</th>\n",
       "      <th>q_4</th>\n",
       "      <th>...</th>\n",
       "      <th>q_3_p</th>\n",
       "      <th>q_4_p</th>\n",
       "      <th>q_5_p</th>\n",
       "      <th>q_6_p</th>\n",
       "      <th>t_1</th>\n",
       "      <th>t_2</th>\n",
       "      <th>t_3</th>\n",
       "      <th>t_4</th>\n",
       "      <th>t_5</th>\n",
       "      <th>t_6</th>\n",
       "    </tr>\n",
       "  </thead>\n",
       "  <tbody>\n",
       "    <tr>\n",
       "      <th>0</th>\n",
       "      <td>Женщина</td>\n",
       "      <td>18</td>\n",
       "      <td>13.0</td>\n",
       "      <td>неоконченное высшее</td>\n",
       "      <td>A</td>\n",
       "      <td>{3.0: ['a1', 'a1', 9913.0], 5.0: ['a2', 'a2', ...</td>\n",
       "      <td>a3</td>\n",
       "      <td>a2</td>\n",
       "      <td>a1</td>\n",
       "      <td>a1</td>\n",
       "      <td>...</td>\n",
       "      <td>1</td>\n",
       "      <td>1</td>\n",
       "      <td>1</td>\n",
       "      <td>1</td>\n",
       "      <td>10906</td>\n",
       "      <td>7939</td>\n",
       "      <td>9913</td>\n",
       "      <td>12476</td>\n",
       "      <td>8019</td>\n",
       "      <td>9431</td>\n",
       "    </tr>\n",
       "    <tr>\n",
       "      <th>1</th>\n",
       "      <td>Женщина</td>\n",
       "      <td>18</td>\n",
       "      <td>14.0</td>\n",
       "      <td>неоконченное высшее</td>\n",
       "      <td>A</td>\n",
       "      <td>{6.0: ['a2', 'a2', 8753.0], 2.0: ['a2', 'a3', ...</td>\n",
       "      <td>a2</td>\n",
       "      <td>a2</td>\n",
       "      <td>a1</td>\n",
       "      <td>a1</td>\n",
       "      <td>...</td>\n",
       "      <td>1</td>\n",
       "      <td>1</td>\n",
       "      <td>0</td>\n",
       "      <td>1</td>\n",
       "      <td>9930</td>\n",
       "      <td>10192</td>\n",
       "      <td>9978</td>\n",
       "      <td>11737</td>\n",
       "      <td>12158</td>\n",
       "      <td>8753</td>\n",
       "    </tr>\n",
       "    <tr>\n",
       "      <th>2</th>\n",
       "      <td>Женщина</td>\n",
       "      <td>18</td>\n",
       "      <td>11.0</td>\n",
       "      <td>неоконченное высшее</td>\n",
       "      <td>B</td>\n",
       "      <td>{6.0: ['a2', 'a2', 9995.0], 4.0: ['a2', 'a1', ...</td>\n",
       "      <td>a2</td>\n",
       "      <td>a2</td>\n",
       "      <td>a1</td>\n",
       "      <td>a2</td>\n",
       "      <td>...</td>\n",
       "      <td>1</td>\n",
       "      <td>0</td>\n",
       "      <td>1</td>\n",
       "      <td>1</td>\n",
       "      <td>9108</td>\n",
       "      <td>10064</td>\n",
       "      <td>15051</td>\n",
       "      <td>9188</td>\n",
       "      <td>9138</td>\n",
       "      <td>9995</td>\n",
       "    </tr>\n",
       "    <tr>\n",
       "      <th>3</th>\n",
       "      <td>Женщина</td>\n",
       "      <td>18</td>\n",
       "      <td>13.0</td>\n",
       "      <td>неоконченное высшее</td>\n",
       "      <td>D</td>\n",
       "      <td>{1.0: ['a2', 'a3', 15082.0], 5.0: ['a2', 'a1',...</td>\n",
       "      <td>a2</td>\n",
       "      <td>a2</td>\n",
       "      <td>a2</td>\n",
       "      <td>a2</td>\n",
       "      <td>...</td>\n",
       "      <td>0</td>\n",
       "      <td>1</td>\n",
       "      <td>0</td>\n",
       "      <td>1</td>\n",
       "      <td>15082</td>\n",
       "      <td>9575</td>\n",
       "      <td>10143</td>\n",
       "      <td>27295</td>\n",
       "      <td>11722</td>\n",
       "      <td>8777</td>\n",
       "    </tr>\n",
       "    <tr>\n",
       "      <th>4</th>\n",
       "      <td>Мужчина</td>\n",
       "      <td>21</td>\n",
       "      <td>13.0</td>\n",
       "      <td>неоконченное высшее</td>\n",
       "      <td>A</td>\n",
       "      <td>{1.0: ['a3', 'a3', 23260.0], 5.0: ['a2', 'a2',...</td>\n",
       "      <td>a3</td>\n",
       "      <td>a1</td>\n",
       "      <td>a1</td>\n",
       "      <td>a1</td>\n",
       "      <td>...</td>\n",
       "      <td>1</td>\n",
       "      <td>1</td>\n",
       "      <td>1</td>\n",
       "      <td>1</td>\n",
       "      <td>23260</td>\n",
       "      <td>20021</td>\n",
       "      <td>10044</td>\n",
       "      <td>10417</td>\n",
       "      <td>14685</td>\n",
       "      <td>8624</td>\n",
       "    </tr>\n",
       "    <tr>\n",
       "      <th>...</th>\n",
       "      <td>...</td>\n",
       "      <td>...</td>\n",
       "      <td>...</td>\n",
       "      <td>...</td>\n",
       "      <td>...</td>\n",
       "      <td>...</td>\n",
       "      <td>...</td>\n",
       "      <td>...</td>\n",
       "      <td>...</td>\n",
       "      <td>...</td>\n",
       "      <td>...</td>\n",
       "      <td>...</td>\n",
       "      <td>...</td>\n",
       "      <td>...</td>\n",
       "      <td>...</td>\n",
       "      <td>...</td>\n",
       "      <td>...</td>\n",
       "      <td>...</td>\n",
       "      <td>...</td>\n",
       "      <td>...</td>\n",
       "      <td>...</td>\n",
       "    </tr>\n",
       "    <tr>\n",
       "      <th>123</th>\n",
       "      <td>Мужчина</td>\n",
       "      <td>36</td>\n",
       "      <td>15.0</td>\n",
       "      <td>среднее-специальное</td>\n",
       "      <td>A</td>\n",
       "      <td>{1.0: ['a2', 'a3', 13060.0], 3.0: ['a1', 'a1',...</td>\n",
       "      <td>a2</td>\n",
       "      <td>a1</td>\n",
       "      <td>a1</td>\n",
       "      <td>a2</td>\n",
       "      <td>...</td>\n",
       "      <td>1</td>\n",
       "      <td>0</td>\n",
       "      <td>1</td>\n",
       "      <td>0</td>\n",
       "      <td>13060</td>\n",
       "      <td>9061</td>\n",
       "      <td>18019</td>\n",
       "      <td>13842</td>\n",
       "      <td>10143</td>\n",
       "      <td>8136</td>\n",
       "    </tr>\n",
       "    <tr>\n",
       "      <th>124</th>\n",
       "      <td>Мужчина</td>\n",
       "      <td>21</td>\n",
       "      <td>15.0</td>\n",
       "      <td>высшее</td>\n",
       "      <td>C</td>\n",
       "      <td>{3.0: ['a2', 'a3', 11621.0], 1.0: ['a2', 'a3',...</td>\n",
       "      <td>a2</td>\n",
       "      <td>a1</td>\n",
       "      <td>a2</td>\n",
       "      <td>a2</td>\n",
       "      <td>...</td>\n",
       "      <td>0</td>\n",
       "      <td>1</td>\n",
       "      <td>0</td>\n",
       "      <td>1</td>\n",
       "      <td>11773</td>\n",
       "      <td>12697</td>\n",
       "      <td>11621</td>\n",
       "      <td>9137</td>\n",
       "      <td>8921</td>\n",
       "      <td>9000</td>\n",
       "    </tr>\n",
       "    <tr>\n",
       "      <th>125</th>\n",
       "      <td>Мужчина</td>\n",
       "      <td>23</td>\n",
       "      <td>13.0</td>\n",
       "      <td>неоконченное высшее</td>\n",
       "      <td>D</td>\n",
       "      <td>{6.0: ['a3', 'a2', 18524.0], 2.0: ['a2', 'a1',...</td>\n",
       "      <td>a2</td>\n",
       "      <td>a2</td>\n",
       "      <td>a2</td>\n",
       "      <td>a2</td>\n",
       "      <td>...</td>\n",
       "      <td>0</td>\n",
       "      <td>1</td>\n",
       "      <td>0</td>\n",
       "      <td>0</td>\n",
       "      <td>10013</td>\n",
       "      <td>14877</td>\n",
       "      <td>9045</td>\n",
       "      <td>16989</td>\n",
       "      <td>14184</td>\n",
       "      <td>18524</td>\n",
       "    </tr>\n",
       "    <tr>\n",
       "      <th>126</th>\n",
       "      <td>Мужчина</td>\n",
       "      <td>18</td>\n",
       "      <td>12.0</td>\n",
       "      <td>неоконченное высшее</td>\n",
       "      <td>A</td>\n",
       "      <td>{4.0: ['a1', 'a1', 17044.0], 1.0: ['a2', 'a3',...</td>\n",
       "      <td>a2</td>\n",
       "      <td>a1</td>\n",
       "      <td>a2</td>\n",
       "      <td>a1</td>\n",
       "      <td>...</td>\n",
       "      <td>0</td>\n",
       "      <td>1</td>\n",
       "      <td>1</td>\n",
       "      <td>1</td>\n",
       "      <td>12324</td>\n",
       "      <td>13251</td>\n",
       "      <td>41184</td>\n",
       "      <td>17044</td>\n",
       "      <td>13331</td>\n",
       "      <td>9038</td>\n",
       "    </tr>\n",
       "    <tr>\n",
       "      <th>127</th>\n",
       "      <td>Мужчина</td>\n",
       "      <td>44</td>\n",
       "      <td>15.0</td>\n",
       "      <td>высшее</td>\n",
       "      <td>B</td>\n",
       "      <td>{4.0: ['a2', 'a1', 43169.0], 6.0: ['a2', 'a2',...</td>\n",
       "      <td>a2</td>\n",
       "      <td>a1</td>\n",
       "      <td>a1</td>\n",
       "      <td>a2</td>\n",
       "      <td>...</td>\n",
       "      <td>1</td>\n",
       "      <td>0</td>\n",
       "      <td>1</td>\n",
       "      <td>1</td>\n",
       "      <td>15893</td>\n",
       "      <td>12169</td>\n",
       "      <td>12659</td>\n",
       "      <td>43169</td>\n",
       "      <td>15221</td>\n",
       "      <td>33260</td>\n",
       "    </tr>\n",
       "  </tbody>\n",
       "</table>\n",
       "<p>128 rows × 24 columns</p>\n",
       "</div>"
      ],
      "text/plain": [
       "      Gender  Age  age_ed            education Group  \\\n",
       "0    Женщина   18    13.0  неоконченное высшее     A   \n",
       "1    Женщина   18    14.0  неоконченное высшее     A   \n",
       "2    Женщина   18    11.0  неоконченное высшее     B   \n",
       "3    Женщина   18    13.0  неоконченное высшее     D   \n",
       "4    Мужчина   21    13.0  неоконченное высшее     A   \n",
       "..       ...  ...     ...                  ...   ...   \n",
       "123  Мужчина   36    15.0  среднее-специальное     A   \n",
       "124  Мужчина   21    15.0               высшее     C   \n",
       "125  Мужчина   23    13.0  неоконченное высшее     D   \n",
       "126  Мужчина   18    12.0  неоконченное высшее     A   \n",
       "127  Мужчина   44    15.0               высшее     B   \n",
       "\n",
       "                                               answers q_1 q_2 q_3 q_4  ...  \\\n",
       "0    {3.0: ['a1', 'a1', 9913.0], 5.0: ['a2', 'a2', ...  a3  a2  a1  a1  ...   \n",
       "1    {6.0: ['a2', 'a2', 8753.0], 2.0: ['a2', 'a3', ...  a2  a2  a1  a1  ...   \n",
       "2    {6.0: ['a2', 'a2', 9995.0], 4.0: ['a2', 'a1', ...  a2  a2  a1  a2  ...   \n",
       "3    {1.0: ['a2', 'a3', 15082.0], 5.0: ['a2', 'a1',...  a2  a2  a2  a2  ...   \n",
       "4    {1.0: ['a3', 'a3', 23260.0], 5.0: ['a2', 'a2',...  a3  a1  a1  a1  ...   \n",
       "..                                                 ...  ..  ..  ..  ..  ...   \n",
       "123  {1.0: ['a2', 'a3', 13060.0], 3.0: ['a1', 'a1',...  a2  a1  a1  a2  ...   \n",
       "124  {3.0: ['a2', 'a3', 11621.0], 1.0: ['a2', 'a3',...  a2  a1  a2  a2  ...   \n",
       "125  {6.0: ['a3', 'a2', 18524.0], 2.0: ['a2', 'a1',...  a2  a2  a2  a2  ...   \n",
       "126  {4.0: ['a1', 'a1', 17044.0], 1.0: ['a2', 'a3',...  a2  a1  a2  a1  ...   \n",
       "127  {4.0: ['a2', 'a1', 43169.0], 6.0: ['a2', 'a2',...  a2  a1  a1  a2  ...   \n",
       "\n",
       "    q_3_p q_4_p  q_5_p  q_6_p    t_1    t_2    t_3    t_4    t_5    t_6  \n",
       "0       1     1      1      1  10906   7939   9913  12476   8019   9431  \n",
       "1       1     1      0      1   9930  10192   9978  11737  12158   8753  \n",
       "2       1     0      1      1   9108  10064  15051   9188   9138   9995  \n",
       "3       0     1      0      1  15082   9575  10143  27295  11722   8777  \n",
       "4       1     1      1      1  23260  20021  10044  10417  14685   8624  \n",
       "..    ...   ...    ...    ...    ...    ...    ...    ...    ...    ...  \n",
       "123     1     0      1      0  13060   9061  18019  13842  10143   8136  \n",
       "124     0     1      0      1  11773  12697  11621   9137   8921   9000  \n",
       "125     0     1      0      0  10013  14877   9045  16989  14184  18524  \n",
       "126     0     1      1      1  12324  13251  41184  17044  13331   9038  \n",
       "127     1     0      1      1  15893  12169  12659  43169  15221  33260  \n",
       "\n",
       "[128 rows x 24 columns]"
      ]
     },
     "execution_count": 6,
     "metadata": {},
     "output_type": "execute_result"
    }
   ],
   "source": [
    "df_for_stat"
   ]
  },
  {
   "cell_type": "markdown",
   "id": "d673f71a",
   "metadata": {},
   "source": [
    "Посчитаем количество респондентов женщин и мужчин."
   ]
  },
  {
   "cell_type": "code",
   "execution_count": 7,
   "id": "46b48096",
   "metadata": {
    "scrolled": true
   },
   "outputs": [
    {
     "data": {
      "text/plain": [
       "Женщина    67\n",
       "Мужчина    61\n",
       "Name: Gender, dtype: int64"
      ]
     },
     "execution_count": 7,
     "metadata": {},
     "output_type": "execute_result"
    }
   ],
   "source": [
    "df_for_stat['Gender'].value_counts()"
   ]
  },
  {
   "cell_type": "markdown",
   "id": "863aebae",
   "metadata": {},
   "source": [
    "Посчитаем количество пройденных листов со стимулами."
   ]
  },
  {
   "cell_type": "code",
   "execution_count": 8,
   "id": "1546423c",
   "metadata": {},
   "outputs": [
    {
     "data": {
      "text/plain": [
       "B    39\n",
       "A    31\n",
       "D    30\n",
       "C    28\n",
       "Name: Group, dtype: int64"
      ]
     },
     "execution_count": 8,
     "metadata": {},
     "output_type": "execute_result"
    }
   ],
   "source": [
    "df_for_stat['Group'].value_counts()"
   ]
  },
  {
   "cell_type": "markdown",
   "id": "1d6a7d0d",
   "metadata": {},
   "source": [
    "Посчитаем среднее по возрасту, медиану, моду, максимальный и минимальный возраст"
   ]
  },
  {
   "cell_type": "code",
   "execution_count": 12,
   "id": "9f6f6755",
   "metadata": {},
   "outputs": [
    {
     "data": {
      "text/plain": [
       "36.890625"
      ]
     },
     "execution_count": 12,
     "metadata": {},
     "output_type": "execute_result"
    }
   ],
   "source": [
    "df_for_stat['Age'].mean()"
   ]
  },
  {
   "cell_type": "code",
   "execution_count": 13,
   "id": "e1df9e2a",
   "metadata": {},
   "outputs": [
    {
     "data": {
      "text/plain": [
       "38.5"
      ]
     },
     "execution_count": 13,
     "metadata": {},
     "output_type": "execute_result"
    }
   ],
   "source": [
    "df_for_stat['Age'].median()"
   ]
  },
  {
   "cell_type": "code",
   "execution_count": 14,
   "id": "13dcbeac",
   "metadata": {},
   "outputs": [
    {
     "data": {
      "text/plain": [
       "0    20\n",
       "Name: Age, dtype: int64"
      ]
     },
     "execution_count": 14,
     "metadata": {},
     "output_type": "execute_result"
    }
   ],
   "source": [
    "df_for_stat['Age'].mode()"
   ]
  },
  {
   "cell_type": "code",
   "execution_count": 15,
   "id": "16be14db",
   "metadata": {},
   "outputs": [
    {
     "data": {
      "text/plain": [
       "18"
      ]
     },
     "execution_count": 15,
     "metadata": {},
     "output_type": "execute_result"
    }
   ],
   "source": [
    "df_for_stat['Age'].min()"
   ]
  },
  {
   "cell_type": "code",
   "execution_count": 16,
   "id": "84cc39cc",
   "metadata": {
    "scrolled": true
   },
   "outputs": [
    {
     "data": {
      "text/plain": [
       "75"
      ]
     },
     "execution_count": 16,
     "metadata": {},
     "output_type": "execute_result"
    }
   ],
   "source": [
    "df_for_stat['Age'].max()"
   ]
  },
  {
   "cell_type": "markdown",
   "id": "9ca10b6a",
   "metadata": {},
   "source": [
    "Далее для информации о респондентах мы построили график распределения пола по возрасту."
   ]
  },
  {
   "cell_type": "code",
   "execution_count": null,
   "id": "4b29f88d",
   "metadata": {},
   "outputs": [],
   "source": []
  },
  {
   "cell_type": "markdown",
   "id": "e6d3fa49",
   "metadata": {},
   "source": [
    "Среднее значение по правильным ответам в каждом вопросе."
   ]
  },
  {
   "cell_type": "code",
   "execution_count": 17,
   "id": "5ca20da2",
   "metadata": {
    "scrolled": false
   },
   "outputs": [
    {
     "data": {
      "text/plain": [
       "q_1_p    0.203125\n",
       "q_2_p    0.328125\n",
       "q_3_p    0.492188\n",
       "q_4_p    0.554688\n",
       "q_5_p    0.554688\n",
       "q_6_p    0.710938\n",
       "dtype: float64"
      ]
     },
     "execution_count": 17,
     "metadata": {},
     "output_type": "execute_result"
    }
   ],
   "source": [
    "df_for_stat[['q_1_p', 'q_2_p', 'q_3_p', 'q_4_p', 'q_5_p', 'q_6_p']].mean()"
   ]
  },
  {
   "cell_type": "markdown",
   "id": "dd60d026",
   "metadata": {},
   "source": [
    "Среднее значение по правильным ответам в каждом вопросе с группировкойпо листам."
   ]
  },
  {
   "cell_type": "code",
   "execution_count": 18,
   "id": "e470fa4c",
   "metadata": {
    "scrolled": true
   },
   "outputs": [
    {
     "data": {
      "text/html": [
       "<div>\n",
       "<style scoped>\n",
       "    .dataframe tbody tr th:only-of-type {\n",
       "        vertical-align: middle;\n",
       "    }\n",
       "\n",
       "    .dataframe tbody tr th {\n",
       "        vertical-align: top;\n",
       "    }\n",
       "\n",
       "    .dataframe thead th {\n",
       "        text-align: right;\n",
       "    }\n",
       "</style>\n",
       "<table border=\"1\" class=\"dataframe\">\n",
       "  <thead>\n",
       "    <tr style=\"text-align: right;\">\n",
       "      <th></th>\n",
       "      <th>q_1_p</th>\n",
       "      <th>q_2_p</th>\n",
       "      <th>q_3_p</th>\n",
       "      <th>q_4_p</th>\n",
       "      <th>q_5_p</th>\n",
       "      <th>q_6_p</th>\n",
       "    </tr>\n",
       "    <tr>\n",
       "      <th>Group</th>\n",
       "      <th></th>\n",
       "      <th></th>\n",
       "      <th></th>\n",
       "      <th></th>\n",
       "      <th></th>\n",
       "      <th></th>\n",
       "    </tr>\n",
       "  </thead>\n",
       "  <tbody>\n",
       "    <tr>\n",
       "      <th>A</th>\n",
       "      <td>0.258065</td>\n",
       "      <td>0.161290</td>\n",
       "      <td>0.709677</td>\n",
       "      <td>0.483871</td>\n",
       "      <td>0.709677</td>\n",
       "      <td>0.677419</td>\n",
       "    </tr>\n",
       "    <tr>\n",
       "      <th>B</th>\n",
       "      <td>0.179487</td>\n",
       "      <td>0.256410</td>\n",
       "      <td>0.769231</td>\n",
       "      <td>0.410256</td>\n",
       "      <td>0.692308</td>\n",
       "      <td>0.641026</td>\n",
       "    </tr>\n",
       "    <tr>\n",
       "      <th>C</th>\n",
       "      <td>0.178571</td>\n",
       "      <td>0.571429</td>\n",
       "      <td>0.250000</td>\n",
       "      <td>0.678571</td>\n",
       "      <td>0.500000</td>\n",
       "      <td>0.750000</td>\n",
       "    </tr>\n",
       "    <tr>\n",
       "      <th>D</th>\n",
       "      <td>0.200000</td>\n",
       "      <td>0.366667</td>\n",
       "      <td>0.133333</td>\n",
       "      <td>0.700000</td>\n",
       "      <td>0.266667</td>\n",
       "      <td>0.800000</td>\n",
       "    </tr>\n",
       "  </tbody>\n",
       "</table>\n",
       "</div>"
      ],
      "text/plain": [
       "          q_1_p     q_2_p     q_3_p     q_4_p     q_5_p     q_6_p\n",
       "Group                                                            \n",
       "A      0.258065  0.161290  0.709677  0.483871  0.709677  0.677419\n",
       "B      0.179487  0.256410  0.769231  0.410256  0.692308  0.641026\n",
       "C      0.178571  0.571429  0.250000  0.678571  0.500000  0.750000\n",
       "D      0.200000  0.366667  0.133333  0.700000  0.266667  0.800000"
      ]
     },
     "execution_count": 18,
     "metadata": {},
     "output_type": "execute_result"
    }
   ],
   "source": [
    "df_for_stat.groupby('Group')[['q_1_p', 'q_2_p', 'q_3_p', 'q_4_p', 'q_5_p', 'q_6_p']].mean()"
   ]
  },
  {
   "cell_type": "markdown",
   "id": "ec8bd22a",
   "metadata": {},
   "source": [
    "Распределение по ответам респондентов в кажом вопросе и листе."
   ]
  },
  {
   "cell_type": "code",
   "execution_count": 19,
   "id": "fe26984e",
   "metadata": {},
   "outputs": [
    {
     "data": {
      "text/plain": [
       "Group  q_1\n",
       "A      a2     16\n",
       "       a3      8\n",
       "       a1      7\n",
       "B      a2     22\n",
       "       a1      9\n",
       "       a3      7\n",
       "       a4      1\n",
       "C      a2     19\n",
       "       a3      5\n",
       "       a1      3\n",
       "       a4      1\n",
       "D      a2     17\n",
       "       a3      6\n",
       "       a1      5\n",
       "       a4      2\n",
       "dtype: int64"
      ]
     },
     "execution_count": 19,
     "metadata": {},
     "output_type": "execute_result"
    }
   ],
   "source": [
    "df_for_stat.groupby('Group')[['q_1']].value_counts()"
   ]
  },
  {
   "cell_type": "code",
   "execution_count": 20,
   "id": "4990faa2",
   "metadata": {},
   "outputs": [
    {
     "data": {
      "text/plain": [
       "Group  q_2\n",
       "A      a1     13\n",
       "       a2     13\n",
       "       a3      5\n",
       "B      a2     14\n",
       "       a1     13\n",
       "       a3     10\n",
       "       a4      2\n",
       "C      a1     16\n",
       "       a2      7\n",
       "       a3      5\n",
       "D      a2     16\n",
       "       a1     11\n",
       "       a3      3\n",
       "dtype: int64"
      ]
     },
     "execution_count": 20,
     "metadata": {},
     "output_type": "execute_result"
    }
   ],
   "source": [
    "df_for_stat.groupby('Group')[['q_2']].value_counts()"
   ]
  },
  {
   "cell_type": "code",
   "execution_count": 21,
   "id": "76703714",
   "metadata": {},
   "outputs": [
    {
     "data": {
      "text/plain": [
       "Group  q_3\n",
       "A      a1     22\n",
       "       a2      7\n",
       "       a3      2\n",
       "B      a1     30\n",
       "       a2      4\n",
       "       a3      4\n",
       "       a4      1\n",
       "C      a1     12\n",
       "       a2      9\n",
       "       a3      7\n",
       "D      a2     21\n",
       "       a3      4\n",
       "       a1      3\n",
       "       a4      2\n",
       "dtype: int64"
      ]
     },
     "execution_count": 21,
     "metadata": {},
     "output_type": "execute_result"
    }
   ],
   "source": [
    "df_for_stat.groupby('Group')[['q_3']].value_counts()"
   ]
  },
  {
   "cell_type": "code",
   "execution_count": 22,
   "id": "0ab545ae",
   "metadata": {},
   "outputs": [
    {
     "data": {
      "text/plain": [
       "Group  q_4\n",
       "A      a1     15\n",
       "       a2      7\n",
       "       a3      5\n",
       "       a4      4\n",
       "B      a1     16\n",
       "       a2     12\n",
       "       a4      6\n",
       "       a3      5\n",
       "C      a2     19\n",
       "       a1      5\n",
       "       a3      3\n",
       "       a4      1\n",
       "D      a2     21\n",
       "       a1      7\n",
       "       a3      2\n",
       "dtype: int64"
      ]
     },
     "execution_count": 22,
     "metadata": {},
     "output_type": "execute_result"
    }
   ],
   "source": [
    "df_for_stat.groupby('Group')[['q_4']].value_counts()"
   ]
  },
  {
   "cell_type": "code",
   "execution_count": 23,
   "id": "edf24eca",
   "metadata": {},
   "outputs": [
    {
     "data": {
      "text/plain": [
       "Group  q_5\n",
       "A      a2     22\n",
       "       a3      5\n",
       "       a1      3\n",
       "       a4      1\n",
       "B      a2     27\n",
       "       a3      5\n",
       "       a1      4\n",
       "       a4      3\n",
       "C      a1     14\n",
       "       a2     10\n",
       "       a3      4\n",
       "D      a2     17\n",
       "       a1      8\n",
       "       a3      4\n",
       "       a4      1\n",
       "dtype: int64"
      ]
     },
     "execution_count": 23,
     "metadata": {},
     "output_type": "execute_result"
    }
   ],
   "source": [
    "df_for_stat.groupby('Group')[['q_5']].value_counts()"
   ]
  },
  {
   "cell_type": "code",
   "execution_count": 24,
   "id": "51888424",
   "metadata": {
    "scrolled": false
   },
   "outputs": [
    {
     "data": {
      "text/plain": [
       "Group  q_6\n",
       "A      a2     21\n",
       "       a1      5\n",
       "       a3      5\n",
       "B      a2     25\n",
       "       a3      7\n",
       "       a1      6\n",
       "       a4      1\n",
       "C      a2     21\n",
       "       a1      4\n",
       "       a3      2\n",
       "       a4      1\n",
       "D      a2     24\n",
       "       a1      5\n",
       "       a3      1\n",
       "dtype: int64"
      ]
     },
     "execution_count": 24,
     "metadata": {},
     "output_type": "execute_result"
    }
   ],
   "source": [
    "df_for_stat.groupby('Group')[['q_6']].value_counts()"
   ]
  },
  {
   "cell_type": "markdown",
   "id": "732d364c",
   "metadata": {},
   "source": [
    "Подсчитаем среднее по времени для тех вопросов, когда интонация совпадала с контекстом и когда не совпадала."
   ]
  },
  {
   "cell_type": "markdown",
   "id": "bb160bdf",
   "metadata": {},
   "source": [
    "Считаем Q-контекст и Q-интонацию"
   ]
  },
  {
   "cell_type": "code",
   "execution_count": 26,
   "id": "7911ac82",
   "metadata": {
    "scrolled": true
   },
   "outputs": [
    {
     "data": {
      "text/plain": [
       "12920.838709677419"
      ]
     },
     "execution_count": 26,
     "metadata": {},
     "output_type": "execute_result"
    }
   ],
   "source": [
    "df_for_stat.loc[(df_for_stat['Group'] == 'A')]['t_6'].mean()"
   ]
  },
  {
   "cell_type": "code",
   "execution_count": 27,
   "id": "1178b745",
   "metadata": {},
   "outputs": [
    {
     "data": {
      "text/plain": [
       "14925.692307692309"
      ]
     },
     "execution_count": 27,
     "metadata": {},
     "output_type": "execute_result"
    }
   ],
   "source": [
    "df_for_stat.loc[(df_for_stat['Group'] == 'B')]['t_5'].mean()"
   ]
  },
  {
   "cell_type": "code",
   "execution_count": 28,
   "id": "dc20d7c8",
   "metadata": {},
   "outputs": [
    {
     "data": {
      "text/plain": [
       "19080.571428571428"
      ]
     },
     "execution_count": 28,
     "metadata": {},
     "output_type": "execute_result"
    }
   ],
   "source": [
    "df_for_stat.loc[(df_for_stat['Group'] == 'C')]['t_4'].mean()"
   ]
  },
  {
   "cell_type": "code",
   "execution_count": 29,
   "id": "1d38fed9",
   "metadata": {},
   "outputs": [
    {
     "data": {
      "text/plain": [
       "15514.833333333334"
      ]
     },
     "execution_count": 29,
     "metadata": {},
     "output_type": "execute_result"
    }
   ],
   "source": [
    "df_for_stat.loc[(df_for_stat['Group'] == 'D')]['t_6'].mean()"
   ]
  },
  {
   "cell_type": "markdown",
   "id": "f764f2c7",
   "metadata": {},
   "source": [
    "Считаем Q-контекст и V-интонацию"
   ]
  },
  {
   "cell_type": "code",
   "execution_count": 34,
   "id": "6971e37b",
   "metadata": {
    "scrolled": false
   },
   "outputs": [
    {
     "data": {
      "text/plain": [
       "11576.709677419354"
      ]
     },
     "execution_count": 34,
     "metadata": {},
     "output_type": "execute_result"
    }
   ],
   "source": [
    "df_for_stat.loc[(df_for_stat['Group'] == 'A')]['t_5'].mean()"
   ]
  },
  {
   "cell_type": "code",
   "execution_count": 37,
   "id": "deb46fd8",
   "metadata": {},
   "outputs": [
    {
     "data": {
      "text/plain": [
       "16203.631578947368"
      ]
     },
     "execution_count": 37,
     "metadata": {},
     "output_type": "execute_result"
    }
   ],
   "source": [
    "df_for_stat.loc[(df_for_stat['Group'] == 'B')]['t_6'].mean()"
   ]
  },
  {
   "cell_type": "code",
   "execution_count": 38,
   "id": "8ae684b3",
   "metadata": {},
   "outputs": [
    {
     "data": {
      "text/plain": [
       "14830.607142857143"
      ]
     },
     "execution_count": 38,
     "metadata": {},
     "output_type": "execute_result"
    }
   ],
   "source": [
    "df_for_stat.loc[(df_for_stat['Group'] == 'C')]['t_6'].mean()"
   ]
  },
  {
   "cell_type": "code",
   "execution_count": 39,
   "id": "4618ee16",
   "metadata": {},
   "outputs": [
    {
     "data": {
      "text/plain": [
       "19275.5"
      ]
     },
     "execution_count": 39,
     "metadata": {},
     "output_type": "execute_result"
    }
   ],
   "source": [
    "df_for_stat.loc[(df_for_stat['Group'] == 'D')]['t_4'].mean()"
   ]
  },
  {
   "cell_type": "markdown",
   "id": "c9e95e4a",
   "metadata": {},
   "source": [
    "Считаем V-контекст и V-интонацию"
   ]
  },
  {
   "cell_type": "code",
   "execution_count": 40,
   "id": "5d4e46dd",
   "metadata": {},
   "outputs": [
    {
     "data": {
      "text/plain": [
       "17621.870967741936"
      ]
     },
     "execution_count": 40,
     "metadata": {},
     "output_type": "execute_result"
    }
   ],
   "source": [
    "df_for_stat.loc[(df_for_stat['Group'] == 'A')]['t_4'].mean()"
   ]
  },
  {
   "cell_type": "code",
   "execution_count": 41,
   "id": "9186186b",
   "metadata": {},
   "outputs": [
    {
     "data": {
      "text/plain": [
       "20515.641025641027"
      ]
     },
     "execution_count": 41,
     "metadata": {},
     "output_type": "execute_result"
    }
   ],
   "source": [
    "df_for_stat.loc[(df_for_stat['Group'] == 'B')]['t_3'].mean()"
   ]
  },
  {
   "cell_type": "code",
   "execution_count": 42,
   "id": "b402a243",
   "metadata": {},
   "outputs": [
    {
     "data": {
      "text/plain": [
       "15920.214285714286"
      ]
     },
     "execution_count": 42,
     "metadata": {},
     "output_type": "execute_result"
    }
   ],
   "source": [
    "df_for_stat.loc[(df_for_stat['Group'] == 'C')]['t_5'].mean()"
   ]
  },
  {
   "cell_type": "code",
   "execution_count": 43,
   "id": "001cdd32",
   "metadata": {},
   "outputs": [
    {
     "data": {
      "text/plain": [
       "19648.433333333334"
      ]
     },
     "execution_count": 43,
     "metadata": {},
     "output_type": "execute_result"
    }
   ],
   "source": [
    "df_for_stat.loc[(df_for_stat['Group'] == 'D')]['t_2'].mean()"
   ]
  },
  {
   "cell_type": "markdown",
   "id": "cfc2c538",
   "metadata": {},
   "source": [
    "Считаем V-контекст и Q-интонацию"
   ]
  },
  {
   "cell_type": "code",
   "execution_count": 44,
   "id": "e240a452",
   "metadata": {},
   "outputs": [
    {
     "data": {
      "text/plain": [
       "14297.677419354839"
      ]
     },
     "execution_count": 44,
     "metadata": {},
     "output_type": "execute_result"
    }
   ],
   "source": [
    "df_for_stat.loc[(df_for_stat['Group'] == 'A')]['t_3'].mean()"
   ]
  },
  {
   "cell_type": "code",
   "execution_count": 45,
   "id": "1b6af34a",
   "metadata": {},
   "outputs": [
    {
     "data": {
      "text/plain": [
       "20549.615384615383"
      ]
     },
     "execution_count": 45,
     "metadata": {},
     "output_type": "execute_result"
    }
   ],
   "source": [
    "df_for_stat.loc[(df_for_stat['Group'] == 'B')]['t_4'].mean()"
   ]
  },
  {
   "cell_type": "code",
   "execution_count": 46,
   "id": "39f22eda",
   "metadata": {},
   "outputs": [
    {
     "data": {
      "text/plain": [
       "17335.678571428572"
      ]
     },
     "execution_count": 46,
     "metadata": {},
     "output_type": "execute_result"
    }
   ],
   "source": [
    "df_for_stat.loc[(df_for_stat['Group'] == 'C')]['t_2'].mean()"
   ]
  },
  {
   "cell_type": "code",
   "execution_count": 47,
   "id": "0508147d",
   "metadata": {},
   "outputs": [
    {
     "data": {
      "text/plain": [
       "15719.3"
      ]
     },
     "execution_count": 47,
     "metadata": {},
     "output_type": "execute_result"
    }
   ],
   "source": [
    "df_for_stat.loc[(df_for_stat['Group'] == 'D')]['t_5'].mean()"
   ]
  },
  {
   "cell_type": "code",
   "execution_count": null,
   "id": "a7fc1210",
   "metadata": {},
   "outputs": [],
   "source": []
  }
 ],
 "metadata": {
  "kernelspec": {
   "display_name": "Python 3 (ipykernel)",
   "language": "python",
   "name": "python3"
  },
  "language_info": {
   "codemirror_mode": {
    "name": "ipython",
    "version": 3
   },
   "file_extension": ".py",
   "mimetype": "text/x-python",
   "name": "python",
   "nbconvert_exporter": "python",
   "pygments_lexer": "ipython3",
   "version": "3.9.13"
  }
 },
 "nbformat": 4,
 "nbformat_minor": 5
}
